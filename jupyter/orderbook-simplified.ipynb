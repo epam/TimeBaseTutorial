{
 "cells": [
  {
   "cell_type": "code",
   "execution_count": 14,
   "id": "c3f93d54-0248-4957-9028-6b75d7003d15",
   "metadata": {},
   "outputs": [],
   "source": [
    "from perspective import Table, PerspectiveWidget, Plugin\n",
    "from demo import Demo\n",
    "import ipywidgets as widgets\n",
    "from datetime import datetime\n",
    "import logging\n",
    "\n",
    "\n",
    "logger = logging.getLogger()\n",
    "logger.setLevel(logging.DEBUG)\n",
    "\n",
    "\n",
    "tb_info_url = 'dxtick://timebase-headless.timebase5:8011'\n",
    "key = 'kraken'\n",
    "symbol = 'ETHUSD'\n",
    "record_type = 'deltix.qsrv.hf.plugins.data.kraken.types.KrakenPackageHeader'\n",
    "booksize = 20\n",
    "time_widget = widgets.Text(\n",
    "    disabled=True,\n",
    "    value=str(datetime.now())\n",
    ")\n",
    "demo = Demo(tb_info_url, key, symbol, record_type, time_widget, booksize=booksize)"
   ]
  },
  {
   "cell_type": "code",
   "execution_count": 15,
   "id": "df4a77c4-b878-40f6-be65-6ebc9cedf2d6",
   "metadata": {},
   "outputs": [
    {
     "data": {
      "application/vnd.jupyter.widget-view+json": {
       "model_id": "ab0a529aec1a4e8cb2ef0e8a3c322742",
       "version_major": 2,
       "version_minor": 0
      },
      "text/plain": [
       "Tab(children=(PerspectiveWidget(aggregates={'price': 'avg', 'numberOfOrders': 'sum'}, column_pivots=['side'], …"
      ]
     },
     "metadata": {},
     "output_type": "display_data"
    }
   ],
   "source": [
    "grid = PerspectiveWidget(\n",
    "    demo.table, \n",
    "    sort=[], \n",
    "    row_pivots=['symbol', 'price'], \n",
    "    column_pivots=['side'], \n",
    "    aggregates={'price': 'avg', 'numberOfOrders': 'sum'},\n",
    "    columns=['size', 'price', 'numberOfOrders'],\n",
    "    plugin=Plugin.GRID, \n",
    "    dark=True\n",
    ")\n",
    "xbar = PerspectiveWidget(\n",
    "    demo.table, \n",
    "    sort=[], \n",
    "    columns=['size'],\n",
    "    row_pivots=['symbol', 'price'], \n",
    "    column_pivots=['side'], \n",
    "    plugin=Plugin.XBAR,\n",
    "    dark=True\n",
    ")\n",
    "ybar = PerspectiveWidget(\n",
    "    demo.table, \n",
    "    sort=[], \n",
    "    columns=['size'],\n",
    "    row_pivots=['symbol', 'price'], \n",
    "    column_pivots=['side'], \n",
    "    plugin=Plugin.YBAR,\n",
    "    dark=True\n",
    ")\n",
    "tabs = widgets.Tab()\n",
    "tabs.children = [grid, xbar, ybar, time_widget]\n",
    "tabs.set_title(0, 'Grid')\n",
    "tabs.set_title(1, 'Horizontal Depth Chart')\n",
    "tabs.set_title(2, 'Vertical Depth Chart')\n",
    "tabs.set_title(3, 'Timestamp')\n",
    "tabs"
   ]
  },
  {
   "cell_type": "code",
   "execution_count": 16,
   "id": "802b775f-1a28-4d34-86d2-5bf839f20ded",
   "metadata": {},
   "outputs": [
    {
     "name": "stderr",
     "output_type": "stream",
     "text": [
      "INFO:root:Started streaming!\n",
      "DEBUG:asyncio:Using selector: EpollSelector\n"
     ]
    }
   ],
   "source": [
    "demo.start()"
   ]
  },
  {
   "cell_type": "code",
   "execution_count": 9,
   "id": "e4800d6e-86ae-4e6e-8b30-ffc7ccf9c315",
   "metadata": {},
   "outputs": [],
   "source": [
    "demo.stop()"
   ]
  },
  {
   "cell_type": "code",
   "execution_count": 10,
   "id": "fd7bf73a-43ef-4e74-b640-377b3f8f1db7",
   "metadata": {},
   "outputs": [],
   "source": [
    "demo.clear()"
   ]
  },
  {
   "cell_type": "code",
   "execution_count": null,
   "id": "39de3d10-f0b3-4821-9f86-7564ef17b83c",
   "metadata": {},
   "outputs": [],
   "source": []
  },
  {
   "cell_type": "code",
   "execution_count": null,
   "id": "370b98ca-af1f-4905-9caf-7b3153a12644",
   "metadata": {},
   "outputs": [],
   "source": []
  }
 ],
 "metadata": {
  "kernelspec": {
   "display_name": "Python 3",
   "language": "python",
   "name": "python3"
  },
  "language_info": {
   "codemirror_mode": {
    "name": "ipython",
    "version": 3
   },
   "file_extension": ".py",
   "mimetype": "text/x-python",
   "name": "python",
   "nbconvert_exporter": "python",
   "pygments_lexer": "ipython3",
   "version": "3.8.12"
  }
 },
 "nbformat": 4,
 "nbformat_minor": 5
}
