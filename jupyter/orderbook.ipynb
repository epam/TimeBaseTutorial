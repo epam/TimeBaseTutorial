{
 "cells": [
  {
   "cell_type": "code",
   "execution_count": 4,
   "id": "a7bdfc8d-3288-4c39-8002-8ee10ec86253",
   "metadata": {},
   "outputs": [],
   "source": [
    "# deltix TimeBase client\n",
    "import tbapi\n",
    "from tbapi import InstrumentMessage\n",
    "\n",
    "# FINOS Perspective\n",
    "import perspective\n",
    "from perspective import Table, PerspectiveWidget, Plugin\n",
    "\n",
    "# OrderBook\n",
    "from orderbook import Book, to_dict\n",
    "\n",
    "# Other libs\n",
    "import threading\n",
    "import asyncio\n",
    "from datetime import datetime\n",
    "import time\n",
    "from datetime import datetime\n",
    "import ipywidgets as widgets\n",
    "import logging\n",
    "from typing import List, Iterable\n",
    "from sortedcollections import SortedDict, ItemSortedDict\n",
    "import logging\n",
    "logger = logging.getLogger()\n",
    "logger.setLevel(logging.DEBUG)"
   ]
  },
  {
   "cell_type": "code",
   "execution_count": 5,
   "id": "79a301d8-e555-4f62-adbf-18ba753963ca",
   "metadata": {},
   "outputs": [],
   "source": [
    "tb_info_url = 'dxtick://localhost:8011'\n",
    "schema = {\n",
    "    'key': str,\n",
    "    'symbol': str,\n",
    "    'side': str,\n",
    "    'size': float,\n",
    "    'price': float,\n",
    "    'numberOfOrders': int\n",
    "}\n",
    "\n",
    "key = 'coinbase'\n",
    "symbol = 'BTC/USD'\n",
    "record_type = 'com.epam.deltix.timebase.messages.universal.PackageHeader'\n",
    "table = Table(schema, limit=1000, index='key')\n",
    "book = Book(symbol)\n",
    "booksize = 20\n",
    "time_widget = widgets.Text(\n",
    "    disabled=True,\n",
    "    value=str(datetime.now())\n",
    ")"
   ]
  },
  {
   "cell_type": "code",
   "execution_count": 8,
   "id": "7be5647a-4467-419e-bdce-dd203782e463",
   "metadata": {},
   "outputs": [],
   "source": [
    "last_updated = 0\n",
    "\n",
    "def current_milli_time():\n",
    "    return round(time.time() * 1000)\n",
    "\n",
    "        \n",
    "def process_entry_update(symbol, entry: InstrumentMessage) -> None:\n",
    "    global last_updated\n",
    "    if entry.action == 'DELETE':\n",
    "        book.remove(entry.side, entry.price)\n",
    "        t = time.time()\n",
    "        if t - last_updated >= 0.5:\n",
    "            last_updated = t\n",
    "            table.update(book.get_bids(size=booksize))\n",
    "            table.update(book.get_asks(size=booksize))\n",
    "    elif entry.action == 'UPDATE':\n",
    "        e = to_dict(symbol, entry)\n",
    "        book.update(e)\n",
    "        t = time.time()\n",
    "        if t - last_updated >= 0.5:\n",
    "            last_updated = t\n",
    "            table.update(book.get_bids(size=booksize))\n",
    "            table.update(book.get_asks(size=booksize))\n",
    "    else:\n",
    "        raise Exception(f'Unknown action type: {entry.action}')\n",
    "\n",
    "        \n",
    "def process_entry_new(symbol, entry: InstrumentMessage) -> None:\n",
    "    global last_updated\n",
    "    e = to_dict(symbol, entry)\n",
    "    book.update(e)\n",
    "    t = time.time()\n",
    "    if t - last_updated >= 0.5:\n",
    "        last_updated = t\n",
    "        table.update(book.get_bids(size=booksize))\n",
    "        table.update(book.get_asks(size=booksize))\n",
    "            \n",
    "\n",
    "def process_snapshot(symbol, entries) -> None:\n",
    "    global last_updated\n",
    "    book.clear()\n",
    "    book.update(*map(lambda e: to_dict(symbol, e), entries))\n",
    "    t = time.time()\n",
    "    if t - last_updated >= 0.5:\n",
    "        last_updated = t\n",
    "        table.update(book.get_bids(size=booksize))\n",
    "        table.update(book.get_asks(size=booksize))\n",
    "#     logging.info('bids: ' + str(list(map(lambda e: e, book.bids))))\n",
    "#     logging.info('asks: ' + str(list(map(lambda e: e, book.asks))))\n",
    "        \n",
    "        \n",
    "def initial_book():\n",
    "    db = tbapi.TickDb.createFromUrl(tb_info_url)\n",
    "    try:\n",
    "        db.open(True)\n",
    "        stream = db.getStream(key)\n",
    "        options = tbapi.SelectionOptions()\n",
    "        try:\n",
    "            cursor = db.select(current_milli_time() - 10000, [stream], options, \n",
    "                               [record_type], \n",
    "                               [symbol])\n",
    "            while cursor.next():\n",
    "                msg = cursor.getMessage()\n",
    "                if msg.packageType == 'PERIODICAL_SNAPSHOT':\n",
    "                    return msg\n",
    "        finally:\n",
    "            cursor.close()\n",
    "    finally:\n",
    "        db.close()\n",
    "\n",
    "        \n",
    "async def read_cursor():\n",
    "    db = tbapi.TickDb.createFromUrl(tb_info_url)\n",
    "    try:\n",
    "        db.open(True)\n",
    "        stream = db.getStream(key)\n",
    "        options = tbapi.SelectionOptions()\n",
    "        options.live = True\n",
    "        try:\n",
    "            cursor = db.select(current_milli_time(), [stream], options, \n",
    "                               [record_type], \n",
    "                               [symbol])\n",
    "            global stop_reading\n",
    "            initialized = False\n",
    "            while cursor.next() and not stop_reading and not initialized:\n",
    "                msg = cursor.getMessage()\n",
    "                if msg.packageType == 'PERIODICAL_SNAPSHOT' or msg.packageType == 'VENDOR_SNAPSHOT':\n",
    "                    logging.info('received snapshot')\n",
    "                    process_snapshot(msg.symbol, msg.entries)\n",
    "                    initialized = True\n",
    "                    time_widget.value = str(datetime.fromtimestamp(msg.timestamp / 10 ** 9))\n",
    "            while cursor.next() and not stop_reading:\n",
    "                msg = cursor.getMessage()\n",
    "                if msg.packageType == 'INCREMENTAL_UPDATE':\n",
    "                    for entry in msg.entries:\n",
    "                        if entry.typeName.endswith('L2EntryUpdate'):\n",
    "                            process_entry_update(msg.symbol, entry)\n",
    "                        elif entry.typeName.endswith('L2EntryNew'):\n",
    "                            process_entry_new(msg.symbol, entry)\n",
    "                elif msg.packageType == 'PERIODICAL_SNAPSHOT' or msg.packageType == 'VENDOR_SNAPSHOT':\n",
    "                    process_snapshot(msg.symbol, msg.entries)\n",
    "                time_widget.value = str(datetime.fromtimestamp(msg.timestamp / 10 ** 9))\n",
    "        finally:\n",
    "            cursor.close()\n",
    "    finally:\n",
    "        db.close()\n",
    "\n",
    "        \n",
    "def update_table():\n",
    "    logging.info('Started streaming!')\n",
    "    loop = asyncio.new_event_loop()\n",
    "    task = loop.create_task(read_cursor())\n",
    "    loop.call_later(60, task.cancel)\n",
    "    \n",
    "    try:\n",
    "        loop.run_until_complete(task)\n",
    "    except asyncio.CancelledError:\n",
    "        logging.info(\"Stopped streaming!\")\n",
    "        pass"
   ]
  },
  {
   "cell_type": "code",
   "execution_count": 9,
   "id": "fbd06a1e-681e-4ac3-b957-10b707ff91af",
   "metadata": {},
   "outputs": [],
   "source": [
    "initial = initial_book()"
   ]
  },
  {
   "cell_type": "code",
   "execution_count": 10,
   "id": "a2bb3305-0b61-479e-af2e-471f4db439c3",
   "metadata": {},
   "outputs": [],
   "source": [
    "process_snapshot(initial.symbol, initial.entries)"
   ]
  },
  {
   "cell_type": "code",
   "execution_count": null,
   "id": "1303f86b-20f0-430d-ab1f-1747e3dd41e4",
   "metadata": {},
   "outputs": [
    {
     "ename": "TypeError",
     "evalue": "__init__() got an unexpected keyword argument 'row_pivots'",
     "output_type": "error",
     "traceback": [
      "\u001b[1;31m---------------------------------------------------------------------------\u001b[0m",
      "\u001b[1;31mTypeError\u001b[0m                                 Traceback (most recent call last)",
      "Input \u001b[1;32mIn [14]\u001b[0m, in \u001b[0;36m<cell line: 1>\u001b[1;34m()\u001b[0m\n\u001b[1;32m----> 1\u001b[0m grid \u001b[38;5;241m=\u001b[39m \u001b[43mPerspectiveWidget\u001b[49m\u001b[43m(\u001b[49m\n\u001b[0;32m      2\u001b[0m \u001b[43m    \u001b[49m\u001b[43mtable\u001b[49m\u001b[43m,\u001b[49m\u001b[43m \u001b[49m\n\u001b[0;32m      3\u001b[0m \u001b[43m    \u001b[49m\u001b[43msort\u001b[49m\u001b[38;5;241;43m=\u001b[39;49m\u001b[43m[\u001b[49m\u001b[43m]\u001b[49m\u001b[43m,\u001b[49m\u001b[43m \u001b[49m\n\u001b[0;32m      4\u001b[0m \u001b[43m    \u001b[49m\u001b[43mrow_pivots\u001b[49m\u001b[38;5;241;43m=\u001b[39;49m\u001b[43m[\u001b[49m\u001b[38;5;124;43m'\u001b[39;49m\u001b[38;5;124;43msymbol\u001b[39;49m\u001b[38;5;124;43m'\u001b[39;49m\u001b[43m,\u001b[49m\u001b[43m \u001b[49m\u001b[38;5;124;43m'\u001b[39;49m\u001b[38;5;124;43mprice\u001b[39;49m\u001b[38;5;124;43m'\u001b[39;49m\u001b[43m]\u001b[49m\u001b[43m,\u001b[49m\u001b[43m \u001b[49m\n\u001b[0;32m      5\u001b[0m \u001b[43m    \u001b[49m\u001b[43mcolumn_pivots\u001b[49m\u001b[38;5;241;43m=\u001b[39;49m\u001b[43m[\u001b[49m\u001b[38;5;124;43m'\u001b[39;49m\u001b[38;5;124;43mside\u001b[39;49m\u001b[38;5;124;43m'\u001b[39;49m\u001b[43m]\u001b[49m\u001b[43m,\u001b[49m\u001b[43m \u001b[49m\n\u001b[0;32m      6\u001b[0m \u001b[43m    \u001b[49m\u001b[43maggregates\u001b[49m\u001b[38;5;241;43m=\u001b[39;49m\u001b[43m{\u001b[49m\u001b[38;5;124;43m'\u001b[39;49m\u001b[38;5;124;43mprice\u001b[39;49m\u001b[38;5;124;43m'\u001b[39;49m\u001b[43m:\u001b[49m\u001b[43m \u001b[49m\u001b[38;5;124;43m'\u001b[39;49m\u001b[38;5;124;43mavg\u001b[39;49m\u001b[38;5;124;43m'\u001b[39;49m\u001b[43m,\u001b[49m\u001b[43m \u001b[49m\u001b[38;5;124;43m'\u001b[39;49m\u001b[38;5;124;43mnumberOfOrders\u001b[39;49m\u001b[38;5;124;43m'\u001b[39;49m\u001b[43m:\u001b[49m\u001b[43m \u001b[49m\u001b[38;5;124;43m'\u001b[39;49m\u001b[38;5;124;43msum\u001b[39;49m\u001b[38;5;124;43m'\u001b[39;49m\u001b[43m}\u001b[49m\u001b[43m,\u001b[49m\n\u001b[0;32m      7\u001b[0m \u001b[43m    \u001b[49m\u001b[43mcolumns\u001b[49m\u001b[38;5;241;43m=\u001b[39;49m\u001b[43m[\u001b[49m\u001b[38;5;124;43m'\u001b[39;49m\u001b[38;5;124;43msize\u001b[39;49m\u001b[38;5;124;43m'\u001b[39;49m\u001b[43m,\u001b[49m\u001b[43m \u001b[49m\u001b[38;5;124;43m'\u001b[39;49m\u001b[38;5;124;43mprice\u001b[39;49m\u001b[38;5;124;43m'\u001b[39;49m\u001b[43m,\u001b[49m\u001b[43m \u001b[49m\u001b[38;5;124;43m'\u001b[39;49m\u001b[38;5;124;43mnumberOfOrders\u001b[39;49m\u001b[38;5;124;43m'\u001b[39;49m\u001b[43m]\u001b[49m\u001b[43m,\u001b[49m\n\u001b[0;32m      8\u001b[0m \u001b[43m    \u001b[49m\u001b[43mplugin\u001b[49m\u001b[38;5;241;43m=\u001b[39;49m\u001b[43mPlugin\u001b[49m\u001b[38;5;241;43m.\u001b[39;49m\u001b[43mGRID\u001b[49m\u001b[43m,\u001b[49m\u001b[43m \u001b[49m\n\u001b[0;32m      9\u001b[0m \u001b[43m    \u001b[49m\u001b[43mdark\u001b[49m\u001b[38;5;241;43m=\u001b[39;49m\u001b[38;5;28;43;01mTrue\u001b[39;49;00m\n\u001b[0;32m     10\u001b[0m \u001b[43m)\u001b[49m\n\u001b[0;32m     11\u001b[0m xbar \u001b[38;5;241m=\u001b[39m PerspectiveWidget(\n\u001b[0;32m     12\u001b[0m     table, \n\u001b[0;32m     13\u001b[0m     sort\u001b[38;5;241m=\u001b[39m[], \n\u001b[1;32m   (...)\u001b[0m\n\u001b[0;32m     18\u001b[0m     dark\u001b[38;5;241m=\u001b[39m\u001b[38;5;28;01mTrue\u001b[39;00m\n\u001b[0;32m     19\u001b[0m )\n\u001b[0;32m     20\u001b[0m ybar \u001b[38;5;241m=\u001b[39m PerspectiveWidget(\n\u001b[0;32m     21\u001b[0m     table, \n\u001b[0;32m     22\u001b[0m     sort\u001b[38;5;241m=\u001b[39m[], \n\u001b[1;32m   (...)\u001b[0m\n\u001b[0;32m     27\u001b[0m     dark\u001b[38;5;241m=\u001b[39m\u001b[38;5;28;01mTrue\u001b[39;00m\n\u001b[0;32m     28\u001b[0m )\n",
      "File \u001b[1;32mC:\\python\\38\\lib\\site-packages\\perspective\\widget\\widget.py:298\u001b[0m, in \u001b[0;36mPerspectiveWidget.__init__\u001b[1;34m(self, data, index, limit, server, client, **kwargs)\u001b[0m\n\u001b[0;32m    295\u001b[0m         kwargs\u001b[38;5;241m.\u001b[39mupdate({\u001b[38;5;124m\"\u001b[39m\u001b[38;5;124mcolumns\u001b[39m\u001b[38;5;124m\"\u001b[39m: config[\u001b[38;5;124m\"\u001b[39m\u001b[38;5;124mcolumns\u001b[39m\u001b[38;5;124m\"\u001b[39m]})\n\u001b[0;32m    297\u001b[0m \u001b[38;5;66;03m# Initialize the viewer\u001b[39;00m\n\u001b[1;32m--> 298\u001b[0m \u001b[38;5;28;43msuper\u001b[39;49m\u001b[43m(\u001b[49m\u001b[43mPerspectiveWidget\u001b[49m\u001b[43m,\u001b[49m\u001b[43m \u001b[49m\u001b[38;5;28;43mself\u001b[39;49m\u001b[43m)\u001b[49m\u001b[38;5;241;43m.\u001b[39;49m\u001b[38;5;21;43m__init__\u001b[39;49m\u001b[43m(\u001b[49m\u001b[38;5;241;43m*\u001b[39;49m\u001b[38;5;241;43m*\u001b[39;49m\u001b[43mkwargs\u001b[49m\u001b[43m)\u001b[49m\n\u001b[0;32m    300\u001b[0m \u001b[38;5;66;03m# Handle messages from the the front end\u001b[39;00m\n\u001b[0;32m    301\u001b[0m \u001b[38;5;66;03m# `PerspectiveJupyterClient.send()`:\u001b[39;00m\n\u001b[0;32m    302\u001b[0m \u001b[38;5;66;03m# - The \"data\" value of the message should be a JSON-serialized string.\u001b[39;00m\n\u001b[0;32m    303\u001b[0m \u001b[38;5;66;03m# - Both `on_msg` and `@observe(\"value\")` must be specified on the\u001b[39;00m\n\u001b[0;32m    304\u001b[0m \u001b[38;5;66;03m# handler for custom messages to be parsed by the Python widget.\u001b[39;00m\n\u001b[0;32m    305\u001b[0m \u001b[38;5;28mself\u001b[39m\u001b[38;5;241m.\u001b[39mon_msg(\u001b[38;5;28mself\u001b[39m\u001b[38;5;241m.\u001b[39mhandle_message)\n",
      "File \u001b[1;32mC:\\python\\38\\lib\\site-packages\\ipywidgets\\widgets\\widget.py:477\u001b[0m, in \u001b[0;36mWidget.__init__\u001b[1;34m(self, **kwargs)\u001b[0m\n\u001b[0;32m    475\u001b[0m \u001b[38;5;124;03m\"\"\"Public constructor\"\"\"\u001b[39;00m\n\u001b[0;32m    476\u001b[0m \u001b[38;5;28mself\u001b[39m\u001b[38;5;241m.\u001b[39m_model_id \u001b[38;5;241m=\u001b[39m kwargs\u001b[38;5;241m.\u001b[39mpop(\u001b[38;5;124m'\u001b[39m\u001b[38;5;124mmodel_id\u001b[39m\u001b[38;5;124m'\u001b[39m, \u001b[38;5;28;01mNone\u001b[39;00m)\n\u001b[1;32m--> 477\u001b[0m \u001b[38;5;28;43msuper\u001b[39;49m\u001b[43m(\u001b[49m\u001b[43mWidget\u001b[49m\u001b[43m,\u001b[49m\u001b[43m \u001b[49m\u001b[38;5;28;43mself\u001b[39;49m\u001b[43m)\u001b[49m\u001b[38;5;241;43m.\u001b[39;49m\u001b[38;5;21;43m__init__\u001b[39;49m\u001b[43m(\u001b[49m\u001b[38;5;241;43m*\u001b[39;49m\u001b[38;5;241;43m*\u001b[39;49m\u001b[43mkwargs\u001b[49m\u001b[43m)\u001b[49m\n\u001b[0;32m    479\u001b[0m Widget\u001b[38;5;241m.\u001b[39m_call_widget_constructed(\u001b[38;5;28mself\u001b[39m)\n\u001b[0;32m    480\u001b[0m \u001b[38;5;28mself\u001b[39m\u001b[38;5;241m.\u001b[39mopen()\n",
      "\u001b[1;31mTypeError\u001b[0m: __init__() got an unexpected keyword argument 'row_pivots'"
     ]
    }
   ],
   "source": [
    "grid = PerspectiveWidget(\n",
    "    table, \n",
    "    sort=[], \n",
    "    group_by=['symbol', 'price'], \n",
    "    split_by=['side'], \n",
    "    aggregates={'price': 'avg', 'numberOfOrders': 'sum'},\n",
    "    columns=['size', 'price', 'numberOfOrders'],\n",
    "    plugin=Plugin.GRID\n",
    ")\n",
    "xbar = PerspectiveWidget(\n",
    "    table, \n",
    "    sort=[], \n",
    "    columns=['size'],\n",
    "    group_by=['symbol', 'price'], \n",
    "    split_by=['side'], \n",
    "    plugin=Plugin.XBAR\n",
    ")\n",
    "ybar = PerspectiveWidget(\n",
    "    table, \n",
    "    sort=[], \n",
    "    columns=['size'],\n",
    "    group_by=['symbol', 'price'], \n",
    "    split_by=['side'], \n",
    "    plugin=Plugin.YBAR\n",
    ")\n",
    "tabs = widgets.Tab()\n",
    "tabs.children = [grid, xbar, ybar, time_widget]\n",
    "tabs.set_title(0, 'Grid')\n",
    "tabs.set_title(1, 'Horizontal Depth Chart')\n",
    "tabs.set_title(2, 'Vertical Depth Chart')\n",
    "tabs.set_title(3, 'Timestamp')"
   ]
  },
  {
   "cell_type": "code",
   "execution_count": 7,
   "id": "81c939a0-9ad2-4d3d-aeea-5b86e9de06f6",
   "metadata": {},
   "outputs": [
    {
     "data": {
      "application/vnd.jupyter.widget-view+json": {
       "model_id": "61e3e404942c4d809d92a02827384a2c",
       "version_major": 2,
       "version_minor": 0
      },
      "text/plain": [
       "Tab(children=(PerspectiveWidget(aggregates={'price': 'avg', 'numberOfOrders': 'sum'}, column_pivots=['side'], …"
      ]
     },
     "metadata": {},
     "output_type": "display_data"
    }
   ],
   "source": [
    "tabs"
   ]
  },
  {
   "cell_type": "code",
   "execution_count": 1,
   "id": "81ac8f59-ba6d-40fb-af37-cf1f73e0ff07",
   "metadata": {
    "tags": []
   },
   "outputs": [
    {
     "ename": "NameError",
     "evalue": "name 'threading' is not defined",
     "output_type": "error",
     "traceback": [
      "\u001b[1;31m---------------------------------------------------------------------------\u001b[0m",
      "\u001b[1;31mNameError\u001b[0m                                 Traceback (most recent call last)",
      "Input \u001b[1;32mIn [1]\u001b[0m, in \u001b[0;36m<cell line: 3>\u001b[1;34m()\u001b[0m\n\u001b[0;32m      1\u001b[0m \u001b[38;5;66;03m# Execute to start reading messages\u001b[39;00m\n\u001b[0;32m      2\u001b[0m stop_reading \u001b[38;5;241m=\u001b[39m \u001b[38;5;28;01mFalse\u001b[39;00m\n\u001b[1;32m----> 3\u001b[0m thread \u001b[38;5;241m=\u001b[39m \u001b[43mthreading\u001b[49m\u001b[38;5;241m.\u001b[39mThread(target\u001b[38;5;241m=\u001b[39mupdate_table)\n\u001b[0;32m      4\u001b[0m thread\u001b[38;5;241m.\u001b[39mstart()\n",
      "\u001b[1;31mNameError\u001b[0m: name 'threading' is not defined"
     ]
    }
   ],
   "source": [
    "# Execute to start reading messages\n",
    "stop_reading = False\n",
    "thread = threading.Thread(target=update_table)\n",
    "thread.start()"
   ]
  },
  {
   "cell_type": "code",
   "execution_count": 9,
   "id": "e5d70f73-8e56-4cba-b4ea-28c32f887022",
   "metadata": {
    "tags": []
   },
   "outputs": [],
   "source": [
    "# Execute to stop reading messages\n",
    "stop_reading = True\n",
    "thread.join()"
   ]
  },
  {
   "cell_type": "code",
   "execution_count": 10,
   "id": "042cf54a-bb97-43ad-9568-927643d57f24",
   "metadata": {},
   "outputs": [],
   "source": [
    "table.clear()\n",
    "grid.clear()\n",
    "book.clear()"
   ]
  },
  {
   "cell_type": "code",
   "execution_count": null,
   "id": "3cdcd7a1-ee8e-4123-8027-bd18fa5e09f5",
   "metadata": {},
   "outputs": [],
   "source": []
  },
  {
   "cell_type": "code",
   "execution_count": null,
   "id": "c3f93d54-0248-4957-9028-6b75d7003d15",
   "metadata": {},
   "outputs": [],
   "source": []
  }
 ],
 "metadata": {
  "kernelspec": {
   "display_name": "Python 3 (ipykernel)",
   "language": "python",
   "name": "python3"
  },
  "language_info": {
   "codemirror_mode": {
    "name": "ipython",
    "version": 3
   },
   "file_extension": ".py",
   "mimetype": "text/x-python",
   "name": "python",
   "nbconvert_exporter": "python",
   "pygments_lexer": "ipython3",
   "version": "3.8.5"
  }
 },
 "nbformat": 4,
 "nbformat_minor": 5
}
