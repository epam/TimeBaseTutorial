{
 "cells": [
  {
   "cell_type": "code",
   "execution_count": 1,
   "id": "a7bdfc8d-3288-4c39-8002-8ee10ec86253",
   "metadata": {},
   "outputs": [],
   "source": [
    "# deltix TimeBase client\n",
    "import dxapi\n",
    "from dxapi import InstrumentMessage, InstrumentType, InstrumentIdentity\n",
    "\n",
    "# FINOS Perspective\n",
    "import perspective\n",
    "from perspective import Table, PerspectiveWidget, Plugin\n",
    "\n",
    "# OrderBook\n",
    "from orderbook import Book, to_dict\n",
    "            \n",
    "# Other libs\n",
    "import threading\n",
    "import asyncio\n",
    "from datetime import datetime\n",
    "import time\n",
    "from datetime import datetime\n",
    "import ipywidgets as widgets\n",
    "import logging\n",
    "from typing import List, Iterable\n",
    "from sortedcollections import SortedDict, ItemSortedDict\n",
    "import logging\n",
    "logger = logging.getLogger()\n",
    "logger.setLevel(logging.DEBUG)"
   ]
  },
  {
   "cell_type": "code",
   "execution_count": 2,
   "id": "79a301d8-e555-4f62-adbf-18ba753963ca",
   "metadata": {},
   "outputs": [],
   "source": [
    "tb_info_url = 'dxtick://timebase-headless.timebase5:8011'\n",
    "schema = {\n",
    "    'key': str,\n",
    "    'symbol': str,\n",
    "    'side': str,\n",
    "    'size': float,\n",
    "    'price': float,\n",
    "    'numberOfOrders': int\n",
    "}\n",
    "symbol = 'BTCUSD'\n",
    "record_type = 'deltix.qsrv.hf.plugins.data.kraken.types.KrakenPackageHeader'\n",
    "key = 'kraken'\n",
    "table = Table(schema, limit=1000, index='key')\n",
    "book = Book(symbol)\n",
    "booksize = 10\n",
    "time_widget = widgets.Text(\n",
    "    disabled=True,\n",
    "    value=str(datetime.now())\n",
    ")"
   ]
  },
  {
   "cell_type": "code",
   "execution_count": 3,
   "id": "7be5647a-4467-419e-bdce-dd203782e463",
   "metadata": {},
   "outputs": [],
   "source": [
    "def current_milli_time():\n",
    "    return round(time.time() * 1000)\n",
    "\n",
    "        \n",
    "def process_entry_update(symbol, entry: InstrumentMessage) -> None:\n",
    "    if entry.action == 'DELETE':\n",
    "        book.remove(entry.side, entry.price)\n",
    "        if entry.side == 'BID':\n",
    "            table.update(book.get_bids(size=booksize))\n",
    "        elif entry.side == 'ASK':\n",
    "            table.update(book.get_asks(size=booksize))\n",
    "    elif entry.action == 'UPDATE':\n",
    "        e = to_dict(symbol, entry)\n",
    "        book.update(e)\n",
    "        if entry.level < booksize:\n",
    "            e['key'] = symbol + entry.side + str(entry.level)\n",
    "            table.update([e])\n",
    "    else:\n",
    "        raise Exception(f'Unknown action type: {entry.action}')\n",
    "\n",
    "        \n",
    "def process_entry_new(symbol, entry: InstrumentMessage) -> None:\n",
    "    e = to_dict(symbol, entry)\n",
    "    book.update(e)\n",
    "    if entry.side == 'BID':\n",
    "        table.update(book.get_bids(size=booksize))\n",
    "    else:\n",
    "        table.update(book.get_asks(size=booksize))\n",
    "            \n",
    "\n",
    "def process_snapshot(symbol, entries) -> None:\n",
    "    book.update(*map(lambda e: to_dict(symbol, e), entries))\n",
    "    table.update(book.get_bids(size=booksize))\n",
    "    table.update(book.get_asks(size=booksize))\n",
    "#     logging.info('bids: ' + str(list(map(lambda e: e, book.bids))))\n",
    "#     logging.info('asks: ' + str(list(map(lambda e: e, book.asks))))\n",
    "        \n",
    "        \n",
    "def initial_book():\n",
    "    db = dxapi.TickDb_createFromUrl(tb_info_url)\n",
    "    try:\n",
    "        db.open(True)\n",
    "        stream = db.getStream(key)\n",
    "        options = dxapi.SelectionOptions()\n",
    "        try:\n",
    "            cursor = db.select(current_milli_time() - 10000, [stream], options, \n",
    "                               [record_type], \n",
    "                               [InstrumentIdentity(InstrumentType.FX, symbol)])\n",
    "            while cursor.next():\n",
    "                msg = cursor.getMessage()\n",
    "                if msg.packageType == 'PERIODICAL_SNAPSHOT':\n",
    "                    return msg\n",
    "        finally:\n",
    "            cursor.close()\n",
    "    finally:\n",
    "        db.close()\n",
    "\n",
    "        \n",
    "async def read_cursor():\n",
    "    db = dxapi.TickDb_createFromUrl(tb_info_url)\n",
    "    try:\n",
    "        db.open(True)\n",
    "        stream = db.getStream(key)\n",
    "        options = dxapi.SelectionOptions()\n",
    "        options.live = True\n",
    "        try:\n",
    "            cursor = db.select(current_milli_time(), [stream], options, \n",
    "                               [record_type], \n",
    "                               [InstrumentIdentity(InstrumentType.FX, symbol)])\n",
    "            global stop_reading\n",
    "            initialized = False\n",
    "            while cursor.next() and not stop_reading and not initialized:\n",
    "                msg = cursor.getMessage()\n",
    "                if msg.packageType == 'PERIODICAL_SNAPSHOT' or msg.packageType == 'VENDOR_SNAPSHOT':\n",
    "                    logging.info('received snapshot')\n",
    "                    process_snapshot(msg.symbol, msg.entries)\n",
    "                    initialized = True\n",
    "                    time_widget.value = str(datetime.fromtimestamp(msg.timestamp / 10 ** 9))\n",
    "            while cursor.next() and not stop_reading:\n",
    "                msg = cursor.getMessage()\n",
    "                if msg.packageType == 'INCREMENTAL_UPDATE':\n",
    "                    for entry in msg.entries:\n",
    "                        if entry.typeName.endswith('L2EntryUpdate'):\n",
    "                            process_entry_update(msg.symbol, entry)\n",
    "                        elif entry.typeName.endswith('L2EntryNew'):\n",
    "                            process_entry_new(msg.symbol, entry)\n",
    "                elif msg.packageType == 'PERIODICAL_SNAPSHOT' or msg.packageType == 'VENDOR_SNAPSHOT':\n",
    "                    process_snapshot(msg.symbol, msg.entries)\n",
    "                time_widget.value = str(datetime.fromtimestamp(msg.timestamp / 10 ** 9))\n",
    "        finally:\n",
    "            cursor.close()\n",
    "    finally:\n",
    "        db.close()\n",
    "\n",
    "        \n",
    "def update_table():\n",
    "    logging.info('Started streaming!')\n",
    "    loop = asyncio.new_event_loop()\n",
    "    task = loop.create_task(read_cursor())\n",
    "    loop.call_later(60, task.cancel)\n",
    "    \n",
    "    try:\n",
    "        loop.run_until_complete(task)\n",
    "    except asyncio.CancelledError:\n",
    "        logging.info(\"Stopped streaming!\")\n",
    "        pass"
   ]
  },
  {
   "cell_type": "code",
   "execution_count": 4,
   "id": "fbd06a1e-681e-4ac3-b957-10b707ff91af",
   "metadata": {},
   "outputs": [],
   "source": [
    "initial = initial_book()"
   ]
  },
  {
   "cell_type": "code",
   "execution_count": 5,
   "id": "a2bb3305-0b61-479e-af2e-471f4db439c3",
   "metadata": {},
   "outputs": [],
   "source": [
    "process_snapshot(initial.symbol, initial.entries)"
   ]
  },
  {
   "cell_type": "code",
   "execution_count": 6,
   "id": "1303f86b-20f0-430d-ab1f-1747e3dd41e4",
   "metadata": {},
   "outputs": [],
   "source": [
    "grid = PerspectiveWidget(\n",
    "    table, \n",
    "    sort=[], \n",
    "    row_pivots=['symbol', 'price'], \n",
    "    column_pivots=['side'], \n",
    "    aggregates={'price': 'avg', 'numberOfOrders': 'sum'},\n",
    "    columns=['size', 'price', 'numberOfOrders'],\n",
    "    plugin=Plugin.GRID, \n",
    "    dark=True\n",
    ")\n",
    "xbar = PerspectiveWidget(\n",
    "    table, \n",
    "    sort=[], \n",
    "    columns=['size'],\n",
    "    row_pivots=['symbol', 'price'], \n",
    "    column_pivots=['side'], \n",
    "    plugin=Plugin.XBAR,\n",
    "    dark=True\n",
    ")\n",
    "ybar = PerspectiveWidget(\n",
    "    table, \n",
    "    sort=[], \n",
    "    columns=['size'],\n",
    "    row_pivots=['symbol', 'price'], \n",
    "    column_pivots=['side'], \n",
    "    plugin=Plugin.YBAR,\n",
    "    dark=True\n",
    ")\n",
    "tabs = widgets.Tab()\n",
    "tabs.children = [grid, xbar, ybar, time_widget]\n",
    "tabs.set_title(0, 'Grid')\n",
    "tabs.set_title(1, 'Horizontal Depth Chart')\n",
    "tabs.set_title(2, 'Vertical Depth Chart')\n",
    "tabs.set_title(3, 'Timestamp')"
   ]
  },
  {
   "cell_type": "code",
   "execution_count": 7,
   "id": "81c939a0-9ad2-4d3d-aeea-5b86e9de06f6",
   "metadata": {},
   "outputs": [
    {
     "data": {
      "application/vnd.jupyter.widget-view+json": {
       "model_id": "34ad52f87b024f66b0c6fc57d83a8cbc",
       "version_major": 2,
       "version_minor": 0
      },
      "text/plain": [
       "Tab(children=(PerspectiveWidget(aggregates={'price': 'avg', 'numberOfOrders': 'sum'}, column_pivots=['side'], …"
      ]
     },
     "metadata": {},
     "output_type": "display_data"
    }
   ],
   "source": [
    "tabs"
   ]
  },
  {
   "cell_type": "code",
   "execution_count": 8,
   "id": "81ac8f59-ba6d-40fb-af37-cf1f73e0ff07",
   "metadata": {},
   "outputs": [
    {
     "name": "stderr",
     "output_type": "stream",
     "text": [
      "INFO:root:Started streaming!\n",
      "DEBUG:asyncio:Using selector: EpollSelector\n",
      "INFO:root:received snapshot\n"
     ]
    }
   ],
   "source": [
    "# Execute to start reading messages\n",
    "stop_reading = False\n",
    "thread = threading.Thread(target=update_table)\n",
    "thread.start()"
   ]
  },
  {
   "cell_type": "code",
   "execution_count": 10,
   "id": "e5d70f73-8e56-4cba-b4ea-28c32f887022",
   "metadata": {},
   "outputs": [],
   "source": [
    "# Execute to stop reading messages\n",
    "stop_reading = True\n",
    "thread.join()\n",
    "table.clear()\n",
    "grid.clear()\n",
    "book.clear()"
   ]
  },
  {
   "cell_type": "code",
   "execution_count": null,
   "id": "6383ddc6-dd26-4b25-8627-6c30c93a1653",
   "metadata": {},
   "outputs": [],
   "source": []
  }
 ],
 "metadata": {
  "kernelspec": {
   "display_name": "Python 3",
   "language": "python",
   "name": "python3"
  },
  "language_info": {
   "codemirror_mode": {
    "name": "ipython",
    "version": 3
   },
   "file_extension": ".py",
   "mimetype": "text/x-python",
   "name": "python",
   "nbconvert_exporter": "python",
   "pygments_lexer": "ipython3",
   "version": "3.8.12"
  }
 },
 "nbformat": 4,
 "nbformat_minor": 5
}
